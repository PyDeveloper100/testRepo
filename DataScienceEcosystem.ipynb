{
 "cells": [
  {
   "cell_type": "markdown",
   "id": "2cbb9c93-86d1-4906-b2ed-946bbb2f562a",
   "metadata": {},
   "source": [
    "# Data Science Tools and Ecosystem\n"
   ]
  },
  {
   "cell_type": "markdown",
   "id": "b8e59397-9caa-45c3-8379-d8f643ccfb8a",
   "metadata": {},
   "source": [
    "In this notebook, Data Science Tools and Ecosystem are summarized."
   ]
  },
  {
   "cell_type": "markdown",
   "id": "13ce43b0-5abe-40c0-858f-80968432e81f",
   "metadata": {},
   "source": [
    "Some of the popular languages that Data Scientists use are:\n",
    "1. Python\n",
    "2. R\n",
    "3. Java"
   ]
  },
  {
   "cell_type": "markdown",
   "id": "35b0d55a-09df-4f42-96fd-bb33e3ca4dd7",
   "metadata": {},
   "source": [
    "Some of the commonly used libraries used by Data Scientists include:\n",
    "1. Pandas\n",
    "2. Matplotlib\n",
    "3. Numpy"
   ]
  },
  {
   "cell_type": "markdown",
   "id": "354a5e0a-bb25-47ab-9352-9bd26bf47cd0",
   "metadata": {},
   "source": [
    "|Data Science Tools|\n",
    "-------------------|\n",
    "|Anaconda|\n",
    "|Pycharm|\n",
    "| Jupyter Notebook |\n"
   ]
  },
  {
   "cell_type": "markdown",
   "id": "f5287382-434e-450b-b82d-250cf71fb72f",
   "metadata": {},
   "source": [
    "### Below are a few examples of evaluating arithmetic expressions in Python:\n",
    "1. 4+1\n",
    "2. 3-1\n",
    "3. 6*3"
   ]
  },
  {
   "cell_type": "code",
   "execution_count": 8,
   "id": "e50c5388-07ed-4a65-953f-a82f725ec288",
   "metadata": {},
   "outputs": [
    {
     "data": {
      "text/plain": [
       "17"
      ]
     },
     "execution_count": 8,
     "metadata": {},
     "output_type": "execute_result"
    }
   ],
   "source": [
    "#This a simple arithmetic expression to mutiply then add integers\n",
    "(3*4)+5"
   ]
  },
  {
   "cell_type": "code",
   "execution_count": 9,
   "id": "b99d83ac-69d9-40a8-af27-24c3d41cd27d",
   "metadata": {},
   "outputs": [
    {
     "data": {
      "text/plain": [
       "3.3333333333333335"
      ]
     },
     "execution_count": 9,
     "metadata": {},
     "output_type": "execute_result"
    }
   ],
   "source": [
    "# This will convert 200 minutes to hours by diving by 60\n",
    "200/60"
   ]
  },
  {
   "cell_type": "markdown",
   "id": "92056d12-a4af-4e45-bfd2-913f3b639e7b",
   "metadata": {},
   "source": [
    "__Objectives__\n",
    "- List popular tools for Data Science\n",
    "- List popular languages used in Data Science\n",
    "- Introduction to evaluation of arithmetic expressions\n"
   ]
  },
  {
   "cell_type": "markdown",
   "id": "da5ba441-dd38-48d5-b78c-4e180fe44632",
   "metadata": {},
   "source": [
    "## Author\n",
    "Sheenu\n"
   ]
  },
  {
   "cell_type": "code",
   "execution_count": null,
   "id": "af406aa8-23af-404f-bc27-c5eebda68598",
   "metadata": {},
   "outputs": [],
   "source": []
  }
 ],
 "metadata": {
  "kernelspec": {
   "display_name": "Python 3 (ipykernel)",
   "language": "python",
   "name": "python3"
  },
  "language_info": {
   "codemirror_mode": {
    "name": "ipython",
    "version": 3
   },
   "file_extension": ".py",
   "mimetype": "text/x-python",
   "name": "python",
   "nbconvert_exporter": "python",
   "pygments_lexer": "ipython3",
   "version": "3.12.8"
  }
 },
 "nbformat": 4,
 "nbformat_minor": 5
}
